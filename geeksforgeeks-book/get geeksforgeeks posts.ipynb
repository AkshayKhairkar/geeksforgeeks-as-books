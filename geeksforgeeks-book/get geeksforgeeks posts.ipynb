{
 "metadata": {
  "name": "",
  "signature": "sha256:e35ae48d044b4821c66f058bbdba7085a447becfff5192b65bb7a39b76472a31"
 },
 "nbformat": 3,
 "nbformat_minor": 0,
 "worksheets": [
  {
   "cells": [
    {
     "cell_type": "code",
     "collapsed": false,
     "input": [
      "import os"
     ],
     "language": "python",
     "metadata": {},
     "outputs": [],
     "prompt_number": 54
    },
    {
     "cell_type": "code",
     "collapsed": false,
     "input": [
      "import requests"
     ],
     "language": "python",
     "metadata": {},
     "outputs": [],
     "prompt_number": 1
    },
    {
     "cell_type": "code",
     "collapsed": false,
     "input": [
      "import lxml.html as html"
     ],
     "language": "python",
     "metadata": {},
     "outputs": [],
     "prompt_number": 2
    },
    {
     "cell_type": "code",
     "collapsed": false,
     "input": [
      "from boilerpipy import (Extractor, isvalidhtml)"
     ],
     "language": "python",
     "metadata": {},
     "outputs": [],
     "prompt_number": 3
    },
    {
     "cell_type": "code",
     "collapsed": false,
     "input": [
      "import clean"
     ],
     "language": "python",
     "metadata": {},
     "outputs": [],
     "prompt_number": 59
    },
    {
     "cell_type": "code",
     "collapsed": false,
     "input": [
      "ds_page = requests.get('http://www.geeksforgeeks.org/data-structures/').content"
     ],
     "language": "python",
     "metadata": {},
     "outputs": [],
     "prompt_number": 7
    },
    {
     "cell_type": "code",
     "collapsed": false,
     "input": [
      "root = html.fromstring(ds_page)"
     ],
     "language": "python",
     "metadata": {},
     "outputs": []
    },
    {
     "cell_type": "code",
     "collapsed": false,
     "input": [
      "books = {}"
     ],
     "language": "python",
     "metadata": {},
     "outputs": [],
     "prompt_number": 49
    },
    {
     "cell_type": "code",
     "collapsed": false,
     "input": [
      "for ul in root.xpath('//div[@class=\"entry-content\"]/ul'):\n",
      "    if not ul.xpath('.//preceding-sibling::p'):\n",
      "        break\n",
      "    p = ul.xpath('.//preceding-sibling::p')[-1]\n",
      "    title = p.text_content()[:p.text_content().find(':')]\n",
      "    print title\n",
      "    links = ul.xpath('./li/a/@href')\n",
      "    if title not in books:\n",
      "        books[title] = links\n",
      "    else:\n",
      "        books[title].extend(links)"
     ],
     "language": "python",
     "metadata": {},
     "outputs": [
      {
       "output_type": "stream",
       "stream": "stdout",
       "text": [
        "Topics\n",
        "Singly Linked List\n",
        "Circular Linked List\n",
        "Doubly Linked List\n",
        "Stack\n",
        "Queue\n",
        "Binary Tree\n",
        "Binary Search Tree\n",
        "Heap\n",
        "Hashing\n",
        "Introduction, DFS and BFS\n",
        "Minimum Spanning Tree\n",
        "Shortest Paths\n",
        "Connectivity\n",
        "Hard Problems\n",
        "Maximum Flow\n",
        "Advanced Lists\n",
        "Trie\n",
        "Trie\n",
        "Suffix Array and Suffix Tree\n",
        "AVL Tree\n",
        "AVL Tree\n",
        "Splay Tree\n",
        "B Tree\n",
        "Segment Tree\n",
        "Red-Black Tree\n",
        "Others\n",
        "Array\n",
        "Matrix\n",
        "Misc\n"
       ]
      }
     ],
     "prompt_number": 50
    },
    {
     "cell_type": "code",
     "collapsed": true,
     "input": [
      "books.keys()"
     ],
     "language": "python",
     "metadata": {},
     "outputs": [
      {
       "metadata": {},
       "output_type": "pyout",
       "prompt_number": 51,
       "text": [
        "['Doubly Linked List',\n",
        " 'Hard Problems',\n",
        " 'Matrix',\n",
        " 'Maximum Flow',\n",
        " 'Minimum Spanning Tree',\n",
        " 'Circular Linked List',\n",
        " 'Connectivity',\n",
        " 'Heap',\n",
        " 'Others',\n",
        " 'Introduction, DFS and BFS',\n",
        " 'Stack',\n",
        " 'Suffix Array and Suffix Tree',\n",
        " 'Hashing',\n",
        " 'Shortest Paths',\n",
        " 'B Tree',\n",
        " 'Binary Search Tree',\n",
        " 'Queue',\n",
        " 'Splay Tree',\n",
        " 'Red-Black Tree',\n",
        " 'Array',\n",
        " 'Advanced Lists',\n",
        " 'Trie',\n",
        " 'Topics',\n",
        " 'Misc',\n",
        " 'Singly Linked List',\n",
        " 'AVL Tree',\n",
        " 'Segment Tree',\n",
        " 'Binary Tree']"
       ]
      }
     ],
     "prompt_number": 51
    },
    {
     "cell_type": "code",
     "collapsed": false,
     "input": [
      "books['Topics']"
     ],
     "language": "python",
     "metadata": {},
     "outputs": [
      {
       "metadata": {},
       "output_type": "pyout",
       "prompt_number": 53,
       "text": [
        "['#LinkedList',\n",
        " '#Stack',\n",
        " '#Queue',\n",
        " '#BinaryTree',\n",
        " '#BinarySearchTree',\n",
        " '#Heap',\n",
        " '#Hashing',\n",
        " '#Graph',\n",
        " '#AdvancedDataStructure',\n",
        " '#Array',\n",
        " '#Matrix',\n",
        " '#Misc']"
       ]
      }
     ],
     "prompt_number": 53
    },
    {
     "cell_type": "code",
     "collapsed": false,
     "input": [
      "def generate_book(book):\n",
      "    if book == \"LinkedList\":\n",
      "        for ulr in books['Singly Linked List'] + books['Circular Linked List'] + books['Doubly Linked List']:\n",
      "            open(book)\n",
      "        pass\n",
      "    elif book == \"Stack\":\n",
      "        pass\n",
      "    elif book == \"Queue\":\n",
      "        pass\n",
      "    elif book == \"BinaryTree\":\n",
      "        pass\n",
      "    elif book == \"BinarySearchTree\":\n",
      "        pass\n",
      "    elif book == \"Heap\":\n",
      "        pass\n",
      "    elif book == \"Hashing\":\n",
      "        pass\n",
      "    elif book == \"Graph\":\n",
      "        pass\n",
      "    elif book == \"AdvancedDataStructure\":\n",
      "        pass\n",
      "    elif book == \"Array\":\n",
      "        pass\n",
      "    elif book == \"Matrix\":\n",
      "        pass\n",
      "    elif book == \"Misc\":\n",
      "        pass"
     ],
     "language": "python",
     "metadata": {},
     "outputs": [],
     "prompt_number": 57
    },
    {
     "cell_type": "code",
     "collapsed": false,
     "input": [
      "for book in books['Topics']:\n",
      "    book = book[1:]\n",
      "    if not os.path.isdir(book):\n",
      "        os.makedirs(book)\n",
      "    generate_book(book)"
     ],
     "language": "python",
     "metadata": {},
     "outputs": [],
     "prompt_number": 58
    },
    {
     "cell_type": "code",
     "collapsed": false,
     "input": [
      "!ls"
     ],
     "language": "python",
     "metadata": {},
     "outputs": [
      {
       "output_type": "stream",
       "stream": "stdout",
       "text": [
        "\u001b[1m\u001b[36mAdvancedDataStructure\u001b[m\u001b[m         \u001b[1m\u001b[36mQueue\u001b[m\u001b[m                         clean.pyc                     \u001b[1m\u001b[36mgraph\u001b[m\u001b[m\r\n",
        "\u001b[1m\u001b[36mArray\u001b[m\u001b[m                         \u001b[1m\u001b[36mStack\u001b[m\u001b[m                         collection.json               \u001b[1m\u001b[36minterview-experiences\u001b[m\u001b[m\r\n",
        "\u001b[1m\u001b[36mBinarySearchTree\u001b[m\u001b[m              \u001b[1m\u001b[36madvance-data-structures\u001b[m\u001b[m       copy_to_goodies.py            \u001b[1m\u001b[36mlinked-list\u001b[m\u001b[m\r\n",
        "\u001b[1m\u001b[36mBinaryTree\u001b[m\u001b[m                    \u001b[1m\u001b[36mamazon\u001b[m\u001b[m                        \u001b[1m\u001b[36mcovers\u001b[m\u001b[m                        \u001b[1m\u001b[36mmicrosoft\u001b[m\u001b[m\r\n",
        "\u001b[1m\u001b[36mGreedy-Algorithm\u001b[m\u001b[m              \u001b[1m\u001b[36marticles\u001b[m\u001b[m                      \u001b[1m\u001b[36mdivide-and-conquer\u001b[m\u001b[m            \u001b[1m\u001b[36mpattern-searching\u001b[m\u001b[m\r\n",
        "\u001b[1m\u001b[36mHashing\u001b[m\u001b[m                       \u001b[1m\u001b[36mbacktracking\u001b[m\u001b[m                  \u001b[1m\u001b[36mdynamic-programming\u001b[m\u001b[m           \u001b[1m\u001b[36mrecursion\u001b[m\u001b[m\r\n",
        "\u001b[1m\u001b[36mHeap\u001b[m\u001b[m                          batch_generate_book.py        generate_b"
       ]
      },
      {
       "output_type": "stream",
       "stream": "stdout",
       "text": [
        "ook.py              \u001b[1m\u001b[36mtree\u001b[m\u001b[m\r\n",
        "\u001b[1m\u001b[36mLinkedList\u001b[m\u001b[m                    \u001b[1m\u001b[36mbit-magic\u001b[m\u001b[m                     generate_book.pyc             \u001b[1m\u001b[36mtree-traveral\u001b[m\u001b[m\r\n",
        "\u001b[1m\u001b[36mMathematicalAlgo\u001b[m\u001b[m              \u001b[1m\u001b[36mc-arrays\u001b[m\u001b[m                      generate_covers.py            write_to_mongodb.py\r\n",
        "\u001b[1m\u001b[36mMatrix\u001b[m\u001b[m                        \u001b[1m\u001b[36mc-programs\u001b[m\u001b[m                    generate_covers.pyc\r\n",
        "\u001b[1m\u001b[36mMisc\u001b[m\u001b[m                          clean.py                      get geeksforgeeks posts.ipynb\r\n"
       ]
      }
     ],
     "prompt_number": 56
    }
   ],
   "metadata": {}
  }
 ]
}